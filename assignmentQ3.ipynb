{
 "cells": [
  {
   "cell_type": "markdown",
   "metadata": {},
   "source": [
    "# Problem 3\n",
    "### Find the pizza size which gives more profit"
   ]
  },
  {
   "cell_type": "code",
   "execution_count": 1,
   "metadata": {},
   "outputs": [
    {
     "name": "stdout",
     "output_type": "stream",
     "text": [
      "18 degree pizza is more profitable\n"
     ]
    }
   ],
   "source": [
    "pizza_1=18\n",
    "pizza_2=12\n",
    "radius1=pizza_1/2\n",
    "radius2=pizza_2/2\n",
    "area_1=3.14*(radius1*radius1)\n",
    "area_2=3.14*(radius2*radius2)\n",
    "totalArea_2=area_2*2\n",
    "if area_1 > totalArea_2:\n",
    "    print(\"18 degree pizza is more profitable\")\n",
    "else:\n",
    "    print(\"12 degree pizza is more profitable\")\n"
   ]
  }
 ],
 "metadata": {
  "kernelspec": {
   "display_name": "Python 3.10.7 64-bit",
   "language": "python",
   "name": "python3"
  },
  "language_info": {
   "codemirror_mode": {
    "name": "ipython",
    "version": 3
   },
   "file_extension": ".py",
   "mimetype": "text/x-python",
   "name": "python",
   "nbconvert_exporter": "python",
   "pygments_lexer": "ipython3",
   "version": "3.10.7"
  },
  "orig_nbformat": 4,
  "vscode": {
   "interpreter": {
    "hash": "87d6d355f48fffd5723e1d60c39053d3c6990dcf700e1bac4c1372d54aa4c825"
   }
  }
 },
 "nbformat": 4,
 "nbformat_minor": 2
}
