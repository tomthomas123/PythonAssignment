{
 "cells": [
  {
   "cell_type": "markdown",
   "metadata": {},
   "source": [
    "# Time Problem\n",
    "## Make a method\n",
    "### addTime\n",
    "### displayTime\n",
    "### displayMinute"
   ]
  },
  {
   "cell_type": "code",
   "execution_count": 34,
   "metadata": {},
   "outputs": [],
   "source": [
    "import math  \n",
    "class Time:\n",
    "    def __init__(self,hours,minutes):\n",
    "        self.hours = hours\n",
    "        self.minutes = minutes\n",
    "        \n",
    "    def addTime(self,object1):\n",
    "        if(object1.hours < 1) or (self.hours < 1):\n",
    "            \n",
    "            a = (object1.hours + self.hours)*60\n",
    "            b = (object1.minutes + self.minutes) - 60\n",
    "            h = (a + b)/60\n",
    "            hour = math.ceil(h)\n",
    "            \n",
    "            if(self.hours < 1):\n",
    "                mins = self.hours + b\n",
    "                \n",
    "            else:\n",
    "                mins = object1.hours + b\n",
    "                \n",
    "                \n",
    "        else:\n",
    "            hour = object1.hours + self.hours\n",
    "            mins = object1.minutes + self.minutes\n",
    "            \n",
    "        print(hour,\"Hour and \",mins,\"Minutes\")\n",
    "            \n",
    "    def displayTime(self):\n",
    "        print(self.hours,\"Hour and \",self.minutes,\"Minute\")\n",
    "        \n",
    "    def DisplayMinute(self):\n",
    "        h = self.hours * 60\n",
    "        total_min = h + self.minutes\n",
    "        return total_min"
   ]
  },
  {
   "cell_type": "code",
   "execution_count": 41,
   "metadata": {},
   "outputs": [
    {
     "name": "stdout",
     "output_type": "stream",
     "text": [
      "4 Hour and  36 Minutes\n"
     ]
    }
   ],
   "source": [
    "time1 = Time(0,51)\n",
    "time2 = Time(3,45)\n",
    "time2.addTime(time1)"
   ]
  },
  {
   "cell_type": "code",
   "execution_count": 42,
   "metadata": {},
   "outputs": [
    {
     "name": "stdout",
     "output_type": "stream",
     "text": [
      "0 Hour and  51 Minute\n"
     ]
    }
   ],
   "source": [
    "time1.displayTime()"
   ]
  },
  {
   "cell_type": "code",
   "execution_count": 43,
   "metadata": {},
   "outputs": [
    {
     "data": {
      "text/plain": [
       "51"
      ]
     },
     "execution_count": 43,
     "metadata": {},
     "output_type": "execute_result"
    }
   ],
   "source": [
    "time1.DisplayMinute()\n"
   ]
  },
  {
   "cell_type": "code",
   "execution_count": 44,
   "metadata": {},
   "outputs": [
    {
     "data": {
      "text/plain": [
       "225"
      ]
     },
     "execution_count": 44,
     "metadata": {},
     "output_type": "execute_result"
    }
   ],
   "source": [
    "time2.DisplayMinute()\n"
   ]
  },
  {
   "cell_type": "code",
   "execution_count": 45,
   "metadata": {},
   "outputs": [
    {
     "name": "stdout",
     "output_type": "stream",
     "text": [
      "3 Hour and  45 Minute\n"
     ]
    }
   ],
   "source": [
    "time2.displayTime()"
   ]
  }
 ],
 "metadata": {
  "kernelspec": {
   "display_name": "Python 3.10.7 64-bit",
   "language": "python",
   "name": "python3"
  },
  "language_info": {
   "codemirror_mode": {
    "name": "ipython",
    "version": 3
   },
   "file_extension": ".py",
   "mimetype": "text/x-python",
   "name": "python",
   "nbconvert_exporter": "python",
   "pygments_lexer": "ipython3",
   "version": "3.10.7"
  },
  "orig_nbformat": 4,
  "vscode": {
   "interpreter": {
    "hash": "87d6d355f48fffd5723e1d60c39053d3c6990dcf700e1bac4c1372d54aa4c825"
   }
  }
 },
 "nbformat": 4,
 "nbformat_minor": 2
}
