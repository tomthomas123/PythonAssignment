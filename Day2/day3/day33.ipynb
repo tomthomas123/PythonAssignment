{
 "cells": [
  {
   "cell_type": "markdown",
   "metadata": {},
   "source": [
    "# Example code"
   ]
  },
  {
   "cell_type": "code",
   "execution_count": 3,
   "metadata": {},
   "outputs": [
    {
     "name": "stdout",
     "output_type": "stream",
     "text": [
      "there is an error division by zero\n",
      "0.5454545454545454\n"
     ]
    }
   ],
   "source": [
    "from __future__ import division\n",
    "\n",
    "\n",
    "x=input(\"Enter a number\")\n",
    "y=input(\"Enter another number\")\n",
    "try:\n",
    "    division_value=int (x)/int (y)\n",
    "except Exception as e:\n",
    "    print(\"there is an error\",e)\n",
    "\n",
    "print(division_value)"
   ]
  },
  {
   "cell_type": "code",
   "execution_count": 17,
   "metadata": {},
   "outputs": [
    {
     "name": "stdout",
     "output_type": "stream",
     "text": [
      "[0 1 2 3 4]\n"
     ]
    }
   ],
   "source": [
    "import numpy as np\n",
    "l=np.arange(5)\n",
    "print(l)"
   ]
  },
  {
   "cell_type": "markdown",
   "metadata": {},
   "source": []
  }
 ],
 "metadata": {
  "kernelspec": {
   "display_name": "Python 3.10.7 64-bit",
   "language": "python",
   "name": "python3"
  },
  "language_info": {
   "codemirror_mode": {
    "name": "ipython",
    "version": 3
   },
   "file_extension": ".py",
   "mimetype": "text/x-python",
   "name": "python",
   "nbconvert_exporter": "python",
   "pygments_lexer": "ipython3",
   "version": "3.10.7"
  },
  "orig_nbformat": 4,
  "vscode": {
   "interpreter": {
    "hash": "87d6d355f48fffd5723e1d60c39053d3c6990dcf700e1bac4c1372d54aa4c825"
   }
  }
 },
 "nbformat": 4,
 "nbformat_minor": 2
}
