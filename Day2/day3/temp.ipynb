{
 "cells": [
  {
   "cell_type": "markdown",
   "metadata": {},
   "source": [
    "## Temperature problem\n",
    "#### Create a class and make two methods\n",
    "#### 1. Convert celsius into fahrenheit"
   ]
  },
  {
   "cell_type": "code",
   "execution_count": 4,
   "metadata": {},
   "outputs": [
    {
     "name": "stdout",
     "output_type": "stream",
     "text": [
      "17.7792\n"
     ]
    }
   ],
   "source": [
    "\n",
    "class Temperature:\n",
    "    def __init__(self,celsius,farenheit):\n",
    "        \n",
    "        celsius=float(input(\"Enter the Temperature in celsius\"))\n",
    "    \n",
    "    farenheit=(celsius+32)*.5556;\n",
    "    print(farenheit)\n",
    "\n",
    "           \n",
    "        "
   ]
  },
  {
   "cell_type": "markdown",
   "metadata": {},
   "source": [
    "#### 2.Convert fahrenheit into celsius"
   ]
  },
  {
   "cell_type": "code",
   "execution_count": 2,
   "metadata": {},
   "outputs": [
    {
     "name": "stdout",
     "output_type": "stream",
     "text": [
      "39.4476\n"
     ]
    }
   ],
   "source": [
    "fahrenheit=float(input(\"Enter the Temperature in fahrenheit\"))\n",
    "celsius=(fahrenheit-32)*.5556\n",
    "print(celsius)"
   ]
  }
 ],
 "metadata": {
  "kernelspec": {
   "display_name": "Python 3.10.7 64-bit",
   "language": "python",
   "name": "python3"
  },
  "language_info": {
   "codemirror_mode": {
    "name": "ipython",
    "version": 3
   },
   "file_extension": ".py",
   "mimetype": "text/x-python",
   "name": "python",
   "nbconvert_exporter": "python",
   "pygments_lexer": "ipython3",
   "version": "3.10.7"
  },
  "orig_nbformat": 4,
  "vscode": {
   "interpreter": {
    "hash": "87d6d355f48fffd5723e1d60c39053d3c6990dcf700e1bac4c1372d54aa4c825"
   }
  }
 },
 "nbformat": 4,
 "nbformat_minor": 2
}
