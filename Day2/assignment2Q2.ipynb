{
 "cells": [
  {
   "cell_type": "markdown",
   "metadata": {},
   "source": [
    "## Assignment 2\n",
    "# Problem 2\n",
    "### Write a function to return True if the first and last number of a given list is same.If numbers are different then return False."
   ]
  },
  {
   "cell_type": "code",
   "execution_count": 3,
   "metadata": {},
   "outputs": [
    {
     "name": "stdout",
     "output_type": "stream",
     "text": [
      "Given list: [1, 33, 44, 564455, 1]\n",
      "result is True\n",
      "Given list: [22, 33, 454, 564645, 4]\n",
      "result is False\n"
     ]
    }
   ],
   "source": [
    "def check(numList):\n",
    "    print(\"Given list:\", numList)\n",
    "    \n",
    "    num1 = numList[0]\n",
    "    num2 = numList[-1]\n",
    "    \n",
    "    if num1 == num2:\n",
    "        return True\n",
    "    else:\n",
    "        return False\n",
    "\n",
    "checkTrue = [1, 33, 44, 564455, 1]\n",
    "print(\"result is\", check(checkTrue))\n",
    "\n",
    "checkFalse = [22, 33, 454, 564645, 4]\n",
    "print(\"result is\", check(checkFalse))\n"
   ]
  }
 ],
 "metadata": {
  "kernelspec": {
   "display_name": "Python 3.10.7 ('test': venv)",
   "language": "python",
   "name": "python3"
  },
  "language_info": {
   "codemirror_mode": {
    "name": "ipython",
    "version": 3
   },
   "file_extension": ".py",
   "mimetype": "text/x-python",
   "name": "python",
   "nbconvert_exporter": "python",
   "pygments_lexer": "ipython3",
   "version": "3.10.7"
  },
  "orig_nbformat": 4,
  "vscode": {
   "interpreter": {
    "hash": "50c9ee7a423ed6cf110b2be1623c04dedd25416d2c8da0aebe1926f402dba217"
   }
  }
 },
 "nbformat": 4,
 "nbformat_minor": 2
}
