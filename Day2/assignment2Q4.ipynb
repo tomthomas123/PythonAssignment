{
 "cells": [
  {
   "cell_type": "markdown",
   "metadata": {},
   "source": [
    "## Assignment 2\n",
    "# Program 4\n",
    "#### write a program to find how many times substring \"Emma\" appreas in the given string."
   ]
  },
  {
   "cell_type": "code",
   "execution_count": 9,
   "metadata": {},
   "outputs": [
    {
     "name": "stdout",
     "output_type": "stream",
     "text": [
      "Emma found in  2 times\n"
     ]
    }
   ],
   "source": [
    "\n",
    "\n",
    "str_x = \"Emma is good developer. Emma is a writer\"\n",
    "counted= str_x.count(\"Emma\")\n",
    "print(\"Emma found in \",counted, \"times\")"
   ]
  }
 ],
 "metadata": {
  "kernelspec": {
   "display_name": "Python 3.10.7 ('test': venv)",
   "language": "python",
   "name": "python3"
  },
  "language_info": {
   "codemirror_mode": {
    "name": "ipython",
    "version": 3
   },
   "file_extension": ".py",
   "mimetype": "text/x-python",
   "name": "python",
   "nbconvert_exporter": "python",
   "pygments_lexer": "ipython3",
   "version": "3.10.7"
  },
  "orig_nbformat": 4,
  "vscode": {
   "interpreter": {
    "hash": "50c9ee7a423ed6cf110b2be1623c04dedd25416d2c8da0aebe1926f402dba217"
   }
  }
 },
 "nbformat": 4,
 "nbformat_minor": 2
}
