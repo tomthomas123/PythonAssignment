{
 "cells": [
  {
   "cell_type": "markdown",
   "metadata": {},
   "source": [
    "## Assignment 2\n",
    "# Problem 1\n",
    "##### Given two integer numbers return their product only if the product is equal to or lower than 1000.Else return their sum."
   ]
  },
  {
   "cell_type": "code",
   "execution_count": 4,
   "metadata": {},
   "outputs": [
    {
     "name": "stdout",
     "output_type": "stream",
     "text": [
      "The resultis :  1002\n"
     ]
    }
   ],
   "source": [
    "number1=int(input(\"Enter the first number\"))\n",
    "number2=int(input(\"Enter the second number\"))\n",
    "product=number1*number2\n",
    "sum=number1+number2\n",
    "if product <= 1000:\n",
    "    print(\"The result is : \",product)\n",
    "else:\n",
    "    print(\"The result is : \",sum)\n"
   ]
  }
 ],
 "metadata": {
  "kernelspec": {
   "display_name": "Python 3.10.7 ('test': venv)",
   "language": "python",
   "name": "python3"
  },
  "language_info": {
   "codemirror_mode": {
    "name": "ipython",
    "version": 3
   },
   "file_extension": ".py",
   "mimetype": "text/x-python",
   "name": "python",
   "nbconvert_exporter": "python",
   "pygments_lexer": "ipython3",
   "version": "3.10.7"
  },
  "orig_nbformat": 4,
  "vscode": {
   "interpreter": {
    "hash": "50c9ee7a423ed6cf110b2be1623c04dedd25416d2c8da0aebe1926f402dba217"
   }
  }
 },
 "nbformat": 4,
 "nbformat_minor": 2
}
